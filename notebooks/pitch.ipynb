{
    "cells": [
        {
            "attachments": {},
            "cell_type": "markdown",
            "id": "a3355f33",
            "metadata": {},
            "source": [
                "# plotly_football_pitch\n",
                "\n",
                "In this notebook we give some simple examples of creating a figure with a pitch on it, as well as overlaying further data on top."
            ]
        },
        {
            "cell_type": "code",
            "execution_count": null,
            "id": "d78ccb37-38cf-4654-ab32-88e9389772b9",
            "metadata": {},
            "outputs": [],
            "source": [
                "import random\n",
                "\n",
                "import numpy as np\n",
                "\n",
                "import plotly_football_pitch as pfp"
            ]
        },
        {
            "cell_type": "markdown",
            "id": "b2421a4a",
            "metadata": {},
            "source": [
                "Pitch figures can be created like below:"
            ]
        },
        {
            "cell_type": "code",
            "execution_count": null,
            "id": "03447490",
            "metadata": {},
            "outputs": [],
            "source": [
                "dimensions = pfp.PitchDimensions()\n",
                "fig = pfp.make_pitch_figure(dimensions)\n",
                "fig.show()"
            ]
        },
        {
            "attachments": {},
            "cell_type": "markdown",
            "id": "218d4303",
            "metadata": {},
            "source": [
                "## Pitch Backgrounds\n",
                "\n",
                "Various background colours can be added, including a simple single-coloured background:"
            ]
        },
        {
            "cell_type": "code",
            "execution_count": null,
            "id": "d3be0bac",
            "metadata": {},
            "outputs": [],
            "source": [
                "dimensions = pfp.PitchDimensions()\n",
                "fig = pfp.make_pitch_figure(\n",
                "    dimensions,\n",
                "    pitch_background=pfp.SingleColourBackground(\"#81B622\"),\n",
                ")\n",
                "fig.show()"
            ]
        },
        {
            "attachments": {},
            "cell_type": "markdown",
            "id": "f043e226",
            "metadata": {},
            "source": [
                "Coloured halves to represent attacking and defending teams, following the standard convention that the attacking team plays from left to right:"
            ]
        },
        {
            "cell_type": "code",
            "execution_count": null,
            "id": "f7842e13",
            "metadata": {},
            "outputs": [],
            "source": [
                "dimensions = pfp.PitchDimensions()\n",
                "fig = pfp.make_pitch_figure(\n",
                "    dimensions,\n",
                "    pitch_background=pfp.AttackVsDefenceBackground(\n",
                "        attack_colour=\"#EE4B2B\",\n",
                "        defence_colour=\"#87CEEB\",\n",
                "    ),\n",
                ")\n",
                "fig.show()"
            ]
        },
        {
            "attachments": {},
            "cell_type": "markdown",
            "id": "f23e088f",
            "metadata": {},
            "source": [
                "A striped background in either orientation:"
            ]
        },
        {
            "cell_type": "code",
            "execution_count": null,
            "id": "7a980148",
            "metadata": {},
            "outputs": [],
            "source": [
                "dimensions = pfp.PitchDimensions()\n",
                "fig = pfp.make_pitch_figure(\n",
                "    dimensions,\n",
                "    pitch_background=pfp.VerticalStripesBackground(\n",
                "        colours=[\"#81B622\", \"#72A11E\"],\n",
                "        num_stripes=10,\n",
                "    ),\n",
                ")\n",
                "fig.show()"
            ]
        },
        {
            "cell_type": "code",
            "execution_count": null,
            "id": "09f32a96",
            "metadata": {},
            "outputs": [],
            "source": [
                "dimensions = pfp.PitchDimensions()\n",
                "fig = pfp.make_pitch_figure(\n",
                "    dimensions,\n",
                "    pitch_background=pfp.HorizontalStripesBackground(\n",
                "        colours=[\"#81B622\", \"#72A11E\"],\n",
                "        num_stripes=8,\n",
                "    ),\n",
                ")\n",
                "fig.show()"
            ]
        },
        {
            "attachments": {},
            "cell_type": "markdown",
            "id": "8fd8af1d",
            "metadata": {},
            "source": [
                "And chequered pitches, for the true pitch connoisseur:"
            ]
        },
        {
            "cell_type": "code",
            "execution_count": null,
            "id": "007775ec",
            "metadata": {},
            "outputs": [],
            "source": [
                "dimensions = pfp.PitchDimensions()\n",
                "fig = pfp.make_pitch_figure(\n",
                "    dimensions,\n",
                "    pitch_background=pfp.ChequeredBackground(\n",
                "        colours=[\"#81B622\", \"#72A11E\"],\n",
                "        num_vertical_stripes=10,\n",
                "        num_horizontal_stripes=8,\n",
                "    ),\n",
                ")\n",
                "fig.show()"
            ]
        },
        {
            "attachments": {},
            "cell_type": "markdown",
            "id": "74c325d4",
            "metadata": {},
            "source": [
                "## Adding data\n",
                "\n",
                "A heatmap can be added to a pitch as follows:"
            ]
        },
        {
            "cell_type": "code",
            "execution_count": null,
            "id": "4c503673",
            "metadata": {},
            "outputs": [],
            "source": [
                "# define the grid for heatmap data\n",
                "num_rows = 12\n",
                "num_columns = 15\n",
                "\n",
                "data = np.array([\n",
                "    [random.random() for _ in range(num_columns)]\n",
                "    for _ in range(num_rows)\n",
                "])\n",
                "\n",
                "fig = pfp.make_pitch_figure(dimensions)\n",
                "fig = pfp.add_heatmap(fig, data)\n",
                "fig.show()"
            ]
        },
        {
            "cell_type": "markdown",
            "id": "06f6c478",
            "metadata": {},
            "source": [
                "-------"
            ]
        }
    ],
    "metadata": {
        "kernelspec": {
            "display_name": ".venv",
            "language": "python",
            "name": "python3"
        },
        "language_info": {
            "codemirror_mode": {
                "name": "ipython",
                "version": 3
            },
            "file_extension": ".py",
            "mimetype": "text/x-python",
            "name": "python",
            "nbconvert_exporter": "python",
            "pygments_lexer": "ipython3",
            "version": "3.8.5 (default, Sep  4 2020, 02:22:02) \n[Clang 10.0.0 ]"
        },
        "vscode": {
            "interpreter": {
                "hash": "4103343529449f35f27936539aeca790c09480e1c41f06debfeb3223373278fb"
            }
        }
    },
    "nbformat": 4,
    "nbformat_minor": 5
}
