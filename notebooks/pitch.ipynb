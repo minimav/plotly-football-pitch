{
 "cells": [
  {
   "attachments": {},
   "cell_type": "markdown",
   "id": "a3355f33",
   "metadata": {},
   "source": [
    "### Plotting a football pitch\n",
    "\n",
    "In this notebook we give some simple examples of creating a figure with a pitch on it, as well as overlaying further data on top."
   ]
  },
  {
   "cell_type": "code",
   "execution_count": null,
   "id": "d78ccb37-38cf-4654-ab32-88e9389772b9",
   "metadata": {},
   "outputs": [],
   "source": [
    "import random\n",
    "\n",
    "import numpy as np\n",
    "\n",
    "from plotly_football_pitch import (\n",
    "    add_heatmap,\n",
    "    make_pitch_figure,\n",
    "    PitchDimensions,\n",
    ")"
   ]
  },
  {
   "cell_type": "markdown",
   "id": "b2421a4a",
   "metadata": {},
   "source": [
    "Pitch figures can be created like below:"
   ]
  },
  {
   "cell_type": "code",
   "execution_count": null,
   "id": "03447490",
   "metadata": {},
   "outputs": [],
   "source": [
    "dimensions = PitchDimensions()\n",
    "\n",
    "fig = make_pitch_figure(\n",
    "    dimensions,\n",
    "    marking_colour=\"black\"\n",
    ")\n",
    "fig.show()"
   ]
  },
  {
   "attachments": {},
   "cell_type": "markdown",
   "id": "74c325d4",
   "metadata": {},
   "source": [
    "A heatmap can be added as follows:"
   ]
  },
  {
   "cell_type": "code",
   "execution_count": null,
   "id": "4c503673",
   "metadata": {},
   "outputs": [],
   "source": [
    "# define number of grid squares for heatmap data\n",
    "width_grid = 12\n",
    "length_grid = 15\n",
    "\n",
    "data = np.array([\n",
    "    [random.random() for _ in range(length_grid)]\n",
    "    for _ in range(width_grid)\n",
    "])\n",
    "\n",
    "fig = add_heatmap(fig, data)\n",
    "fig.show()"
   ]
  },
  {
   "cell_type": "code",
   "execution_count": null,
   "id": "06f6c478",
   "metadata": {},
   "outputs": [],
   "source": []
  }
 ],
 "metadata": {
  "kernelspec": {
   "display_name": ".venv",
   "language": "python",
   "name": "python3"
  },
  "language_info": {
   "codemirror_mode": {
    "name": "ipython",
    "version": 3
   },
   "file_extension": ".py",
   "mimetype": "text/x-python",
   "name": "python",
   "nbconvert_exporter": "python",
   "pygments_lexer": "ipython3",
   "version": "3.8.5 (default, Sep  4 2020, 02:22:02) \n[Clang 10.0.0 ]"
  },
  "vscode": {
   "interpreter": {
    "hash": "4103343529449f35f27936539aeca790c09480e1c41f06debfeb3223373278fb"
   }
  }
 },
 "nbformat": 4,
 "nbformat_minor": 5
}
