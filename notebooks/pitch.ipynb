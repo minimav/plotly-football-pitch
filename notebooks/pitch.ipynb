{
    "cells": [
        {
            "attachments": {},
            "cell_type": "markdown",
            "id": "a3355f33",
            "metadata": {},
            "source": [
                "# plotly_football_pitch\n",
                "\n",
                "In this notebook we give some simple examples of creating a figure with a pitch on it, as well as overlaying further data on top."
            ]
        },
        {
            "cell_type": "code",
            "execution_count": null,
            "id": "d78ccb37-38cf-4654-ab32-88e9389772b9",
            "metadata": {},
            "outputs": [],
            "source": [
                "import random\n",
                "\n",
                "import numpy as np\n",
                "import plotly.graph_objects as go\n",
                "import plotly_express as px\n",
                "\n",
                "import plotly_football_pitch as pfp"
            ]
        },
        {
            "cell_type": "markdown",
            "id": "b2421a4a",
            "metadata": {},
            "source": [
                "Pitch figures can be created like below:"
            ]
        },
        {
            "cell_type": "code",
            "execution_count": null,
            "id": "03447490",
            "metadata": {},
            "outputs": [],
            "source": [
                "dimensions = pfp.PitchDimensions()\n",
                "fig = pfp.make_pitch_figure(dimensions)\n",
                "fig.show()"
            ]
        },
        {
            "attachments": {},
            "cell_type": "markdown",
            "id": "d870781e",
            "metadata": {},
            "source": [
                "Pitches can be plotted vertically using `PitchOrientation.VERTICAL`:"
            ]
        },
        {
            "cell_type": "code",
            "execution_count": null,
            "id": "527dd071",
            "metadata": {},
            "outputs": [],
            "source": [
                "dimensions = pfp.PitchDimensions()\n",
                "fig = pfp.make_pitch_figure(\n",
                "    dimensions,\n",
                "    figure_height_pixels=800,\n",
                "    figure_width_pixels=600,\n",
                "    orientation=pfp.PitchOrientation.VERTICAL\n",
                ")\n",
                "fig.show()"
            ]
        },
        {
            "attachments": {},
            "cell_type": "markdown",
            "id": "218d4303",
            "metadata": {},
            "source": [
                "## Pitch Backgrounds\n",
                "\n",
                "Various background colours can be added to pitch, in either orientation. In the examples below we demonstrate on both pitch orientations.\n",
                "\n",
                "Here is a simple single-coloured background:"
            ]
        },
        {
            "cell_type": "code",
            "execution_count": null,
            "id": "d3be0bac",
            "metadata": {},
            "outputs": [],
            "source": [
                "dimensions = pfp.PitchDimensions()\n",
                "fig = pfp.make_pitch_figure(\n",
                "    dimensions,\n",
                "    pitch_background=pfp.SingleColourBackground(\"#81B622\"),\n",
                ")\n",
                "fig.show()"
            ]
        },
        {
            "cell_type": "code",
            "execution_count": null,
            "id": "754c1201",
            "metadata": {},
            "outputs": [],
            "source": [
                "dimensions = pfp.PitchDimensions()\n",
                "fig = pfp.make_pitch_figure(\n",
                "    dimensions,\n",
                "    figure_height_pixels=800,\n",
                "    figure_width_pixels=600,\n",
                "    pitch_background=pfp.SingleColourBackground(\"#81B622\"),\n",
                "    orientation=pfp.PitchOrientation.VERTICAL,\n",
                ")\n",
                "fig.show()"
            ]
        },
        {
            "attachments": {},
            "cell_type": "markdown",
            "id": "f043e226",
            "metadata": {},
            "source": [
                "Coloured halves to represent attacking and defending teams, following the standard convention that the attacking team plays from left to right:"
            ]
        },
        {
            "cell_type": "code",
            "execution_count": null,
            "id": "f7842e13",
            "metadata": {},
            "outputs": [],
            "source": [
                "dimensions = pfp.PitchDimensions()\n",
                "fig = pfp.make_pitch_figure(\n",
                "    dimensions,\n",
                "    pitch_background=pfp.AttackVsDefenceBackground(\n",
                "        attack_colour=\"#EE4B2B\",\n",
                "        defence_colour=\"#87CEEB\",\n",
                "    ),\n",
                ")\n",
                "fig.show()"
            ]
        },
        {
            "attachments": {},
            "cell_type": "markdown",
            "id": "46303a7b",
            "metadata": {},
            "source": [
                "On vertical pitches the attacking team plays up the pitch:"
            ]
        },
        {
            "cell_type": "code",
            "execution_count": null,
            "id": "0464224c",
            "metadata": {},
            "outputs": [],
            "source": [
                "dimensions = pfp.PitchDimensions()\n",
                "fig = pfp.make_pitch_figure(\n",
                "    dimensions,\n",
                "    figure_height_pixels=800,\n",
                "    figure_width_pixels=600,\n",
                "    pitch_background=pfp.AttackVsDefenceBackground(\n",
                "        attack_colour=\"#EE4B2B\",\n",
                "        defence_colour=\"#87CEEB\",\n",
                "    ),\n",
                "    orientation=pfp.PitchOrientation.VERTICAL,\n",
                ")\n",
                "fig.show()"
            ]
        },
        {
            "attachments": {},
            "cell_type": "markdown",
            "id": "f23e088f",
            "metadata": {},
            "source": [
                "A striped background in either direction across the pitch:"
            ]
        },
        {
            "cell_type": "code",
            "execution_count": null,
            "id": "7a980148",
            "metadata": {},
            "outputs": [],
            "source": [
                "dimensions = pfp.PitchDimensions()\n",
                "fig = pfp.make_pitch_figure(\n",
                "    dimensions,\n",
                "    pitch_background=pfp.VerticalStripesBackground(\n",
                "        colours=[\"#81B622\", \"#72A11E\"],\n",
                "        num_stripes=10,\n",
                "    ),\n",
                ")\n",
                "fig.show()"
            ]
        },
        {
            "cell_type": "code",
            "execution_count": null,
            "id": "824fc588",
            "metadata": {},
            "outputs": [],
            "source": [
                "dimensions = pfp.PitchDimensions()\n",
                "fig = pfp.make_pitch_figure(\n",
                "    dimensions,\n",
                "    figure_height_pixels=800,\n",
                "    figure_width_pixels=600,\n",
                "    pitch_background=pfp.VerticalStripesBackground(\n",
                "        colours=[\"#81B622\", \"#72A11E\"],\n",
                "        num_stripes=10,\n",
                "    ),\n",
                "    orientation=pfp.PitchOrientation.VERTICAL,\n",
                ")\n",
                "fig.show()"
            ]
        },
        {
            "cell_type": "code",
            "execution_count": null,
            "id": "09f32a96",
            "metadata": {},
            "outputs": [],
            "source": [
                "dimensions = pfp.PitchDimensions()\n",
                "fig = pfp.make_pitch_figure(\n",
                "    dimensions,\n",
                "    pitch_background=pfp.HorizontalStripesBackground(\n",
                "        colours=[\"#81B622\", \"#72A11E\"],\n",
                "        num_stripes=8,\n",
                "    ),\n",
                ")\n",
                "fig.show()"
            ]
        },
        {
            "cell_type": "code",
            "execution_count": null,
            "id": "3acf62fe",
            "metadata": {},
            "outputs": [],
            "source": [
                "dimensions = pfp.PitchDimensions()\n",
                "fig = pfp.make_pitch_figure(\n",
                "    dimensions,\n",
                "    figure_height_pixels=800,\n",
                "    figure_width_pixels=600,\n",
                "    pitch_background=pfp.HorizontalStripesBackground(\n",
                "        colours=[\"#81B622\", \"#72A11E\"],\n",
                "        num_stripes=8,\n",
                "    ),\n",
                "    orientation=pfp.PitchOrientation.VERTICAL,\n",
                ")\n",
                "fig.show()"
            ]
        },
        {
            "attachments": {},
            "cell_type": "markdown",
            "id": "8fd8af1d",
            "metadata": {},
            "source": [
                "And chequered pitches, for the true pitch connoisseur:"
            ]
        },
        {
            "cell_type": "code",
            "execution_count": null,
            "id": "007775ec",
            "metadata": {},
            "outputs": [],
            "source": [
                "dimensions = pfp.PitchDimensions()\n",
                "fig = pfp.make_pitch_figure(\n",
                "    dimensions,\n",
                "    pitch_background=pfp.ChequeredBackground(\n",
                "        colours=[\"#81B622\", \"#72A11E\"],\n",
                "        num_vertical_stripes=10,\n",
                "        num_horizontal_stripes=8,\n",
                "    ),\n",
                ")\n",
                "fig.show()"
            ]
        },
        {
            "cell_type": "code",
            "execution_count": null,
            "id": "64850139",
            "metadata": {},
            "outputs": [],
            "source": [
                "dimensions = pfp.PitchDimensions()\n",
                "fig = pfp.make_pitch_figure(\n",
                "    dimensions,\n",
                "    figure_height_pixels=800,\n",
                "    figure_width_pixels=600,\n",
                "    pitch_background=pfp.ChequeredBackground(\n",
                "        colours=[\"#81B622\", \"#72A11E\"],\n",
                "        num_vertical_stripes=10,\n",
                "        num_horizontal_stripes=8,\n",
                "    ),\n",
                "    orientation=pfp.PitchOrientation.VERTICAL,\n",
                ")\n",
                "fig.show()"
            ]
        },
        {
            "attachments": {},
            "cell_type": "markdown",
            "id": "74c325d4",
            "metadata": {},
            "source": [
                "## Adding data\n",
                "\n",
                "In the following example a heatmap is added to a pitch."
            ]
        },
        {
            "cell_type": "code",
            "execution_count": null,
            "id": "4c503673",
            "metadata": {},
            "outputs": [],
            "source": [
                "num_rows = 4\n",
                "num_columns = 6\n",
                "total_grid_squares = num_rows * num_columns\n",
                "data = np.arange(total_grid_squares) / total_grid_squares\n",
                "\n",
                "dimensions = pfp.PitchDimensions()\n",
                "fig = pfp.make_pitch_figure(dimensions)\n",
                "fig = pfp.add_heatmap(\n",
                "    fig,\n",
                "    data.reshape(num_rows, num_columns),\n",
                ")\n",
                "fig.show()"
            ]
        },
        {
            "attachments": {},
            "cell_type": "markdown",
            "id": "53233a9b",
            "metadata": {},
            "source": [
                "This also works for vertically oriented pitches:"
            ]
        },
        {
            "cell_type": "code",
            "execution_count": null,
            "id": "72b75fa5",
            "metadata": {},
            "outputs": [],
            "source": [
                "num_rows = 8\n",
                "num_columns = 6\n",
                "total_grid_squares = num_rows * num_columns\n",
                "data = np.arange(total_grid_squares) / total_grid_squares\n",
                "\n",
                "dimensions = pfp.PitchDimensions()\n",
                "fig = pfp.make_pitch_figure(\n",
                "    dimensions,\n",
                "    figure_height_pixels=800,\n",
                "    figure_width_pixels=600,\n",
                "    orientation=pfp.PitchOrientation.VERTICAL,\n",
                ")\n",
                "fig = pfp.add_heatmap(\n",
                "    fig,\n",
                "    data.reshape(num_rows, num_columns),\n",
                ")\n",
                "fig.show()"
            ]
        },
        {
            "attachments": {},
            "cell_type": "markdown",
            "id": "81ab556d",
            "metadata": {},
            "source": [
                "Additional kwargs accepted by `plotly.graph_objects.Heatmap` can be passed. Below we change the colour scale and add text labels to the grid squares to illustrate how the array of data maps onto the pitch:"
            ]
        },
        {
            "cell_type": "code",
            "execution_count": null,
            "id": "554de890",
            "metadata": {},
            "outputs": [],
            "source": [
                "num_rows = 5\n",
                "num_columns = 8\n",
                "\n",
                "data = np.array([\n",
                "    [random.random() for _ in range(num_columns)]\n",
                "    for _ in range(num_rows)\n",
                "])\n",
                "\n",
                "text = [\n",
                "    [(row_index, column_index) for column_index in range(num_columns)]\n",
                "    for row_index in range(num_rows)\n",
                "]\n",
                "\n",
                "dimensions = pfp.PitchDimensions()\n",
                "fig = pfp.make_pitch_figure(dimensions)\n",
                "fig = pfp.add_heatmap(\n",
                "    fig,\n",
                "    data,\n",
                "    hovertemplate=\"feature=%{z:.3f}<extra></extra>\",\n",
                "    colorscale=px.colors.sequential.Greens,\n",
                "    text=text,\n",
                "    texttemplate=\"%{text}\",\n",
                ")\n",
                "fig.show()"
            ]
        },
        {
            "attachments": {},
            "cell_type": "markdown",
            "id": "56ae47a6",
            "metadata": {},
            "source": [
                "Here we illustrate how standard graph objects can be added to a pitch, in this case a sequence of arrows:"
            ]
        },
        {
            "cell_type": "code",
            "execution_count": null,
            "id": "f48e296d",
            "metadata": {},
            "outputs": [],
            "source": [
                "dimensions = pfp.PitchDimensions()\n",
                "fig = pfp.make_pitch_figure(dimensions)\n",
                "\n",
                "coords = [(5, 5), (50, 32), (75, 24), (105, 32)]\n",
                "\n",
                "arrows = []\n",
                "for (start_x, start_y), (end_x, end_y) in zip(coords, coords[1:]):\n",
                "    arrow = go.layout.Annotation(\n",
                "        x=end_x,\n",
                "        y=end_y,\n",
                "        xref=\"x\",\n",
                "        yref=\"y\",\n",
                "        showarrow=True,\n",
                "        axref=\"x\",\n",
                "        ayref='y',\n",
                "        ax=start_x,\n",
                "        ay=start_y,\n",
                "        arrowhead=3,\n",
                "        arrowwidth=1.5,\n",
                "        arrowcolor=\"red\",\n",
                "    )\n",
                "    arrows.append(arrow)\n",
                "\n",
                "\n",
                "# add a scatter point at the end of the final arrow\n",
                "x, y = coords[-1]\n",
                "goal_marker = go.Scatter(\n",
                "    x=[x],\n",
                "    y=[y],\n",
                "    mode=\"markers\",\n",
                "    marker={\"size\": 25, \"color\": \"blue\"},\n",
                "    hoverinfo=\"skip\",\n",
                "    showlegend=False,\n",
                ")\n",
                "fig.add_trace(goal_marker)\n",
                "\n",
                "fig.update_layout(annotations=arrows)\n",
                "fig.show()"
            ]
        },
        {
            "cell_type": "markdown",
            "id": "06f6c478",
            "metadata": {},
            "source": [
                "-------"
            ]
        }
    ],
    "metadata": {
        "kernelspec": {
            "display_name": ".venv",
            "language": "python",
            "name": "python3"
        },
        "language_info": {
            "codemirror_mode": {
                "name": "ipython",
                "version": 3
            },
            "file_extension": ".py",
            "mimetype": "text/x-python",
            "name": "python",
            "nbconvert_exporter": "python",
            "pygments_lexer": "ipython3",
            "version": "3.8.5"
        },
        "vscode": {
            "interpreter": {
                "hash": "4103343529449f35f27936539aeca790c09480e1c41f06debfeb3223373278fb"
            }
        }
    },
    "nbformat": 4,
    "nbformat_minor": 5
}
